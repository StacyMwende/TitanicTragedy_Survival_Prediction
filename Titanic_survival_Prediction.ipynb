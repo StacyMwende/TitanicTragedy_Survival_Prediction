{
  "nbformat": 4,
  "nbformat_minor": 0,
  "metadata": {
    "colab": {
      "name": "Titanic_survival_Prediction",
      "provenance": [],
      "collapsed_sections": [
        "kLG2VTrnTvYL",
        "XecOwPNorl2W",
        "J4wfHZwQrs-t",
        "a9BPYqunry97",
        "7KMRBJ7zr9HD",
        "zSGyg6kWsBUl",
        "iUNbvIvnT7ep",
        "OI3P3YnHUEBk",
        "ckfufNrcUHeH",
        "6XC_g-zKxe-r",
        "FlBMxEDBUc9B",
        "rF2ABPsHUtbZ",
        "vTbdjSrhVIiT",
        "lQ2G4ZPDVOXE",
        "xrmHVMVsVS--",
        "HPQviDmNtta8",
        "qjFHK1CKty7o",
        "HSsicSdvt4Zs"
      ],
      "toc_visible": true,
      "include_colab_link": true
    },
    "kernelspec": {
      "name": "python3",
      "display_name": "Python 3"
    }
  },
  "cells": [
    {
      "cell_type": "markdown",
      "metadata": {
        "id": "view-in-github",
        "colab_type": "text"
      },
      "source": [
        "<a href=\"https://colab.research.google.com/github/StacyMwende/TitanicTragedy_Survival_Prediction/blob/master/Titanic_survival_Prediction.ipynb\" target=\"_parent\"><img src=\"https://colab.research.google.com/assets/colab-badge.svg\" alt=\"Open In Colab\"/></a>"
      ]
    },
    {
      "cell_type": "markdown",
      "metadata": {
        "id": "kLG2VTrnTvYL",
        "colab_type": "text"
      },
      "source": [
        "## 1. Defining the Question"
      ]
    },
    {
      "cell_type": "markdown",
      "metadata": {
        "id": "XecOwPNorl2W",
        "colab_type": "text"
      },
      "source": [
        "### a) Specifying the Data Analytic Question"
      ]
    },
    {
      "cell_type": "markdown",
      "metadata": {
        "id": "9ozBnKfehSAw",
        "colab_type": "text"
      },
      "source": [
        "> Predict the chance of survival from the provided titanic dataset"
      ]
    },
    {
      "cell_type": "markdown",
      "metadata": {
        "id": "J4wfHZwQrs-t",
        "colab_type": "text"
      },
      "source": [
        "### b) Defining the Metric for Success"
      ]
    },
    {
      "cell_type": "markdown",
      "metadata": {
        "id": "1Ti5omg8B3OQ",
        "colab_type": "text"
      },
      "source": [
        "> A good model will enable better predictions and understanding of the dataset to the point where one is need to provide insights about the study"
      ]
    },
    {
      "cell_type": "markdown",
      "metadata": {
        "id": "7KMRBJ7zr9HD",
        "colab_type": "text"
      },
      "source": [
        "### d) Recording the Experimental Design"
      ]
    },
    {
      "cell_type": "markdown",
      "metadata": {
        "id": "GnZMSoKxClrC",
        "colab_type": "text"
      },
      "source": [
        "\n",
        "For our analysis, i will use CRISP-DM methodology which involves:\n",
        "\n",
        "a) Business Understanding\n",
        "\n",
        "b) Data Understanding\n",
        "\n",
        "c) Data Preparation\n",
        "\n",
        "d) Modeling\n",
        "\n",
        "e) Evaluation\n",
        "\n",
        "f) Deployment"
      ]
    },
    {
      "cell_type": "markdown",
      "metadata": {
        "id": "iUNbvIvnT7ep",
        "colab_type": "text"
      },
      "source": [
        "## 2. Reading the Data"
      ]
    },
    {
      "cell_type": "code",
      "metadata": {
        "id": "XJn2KjW-WMlG",
        "colab_type": "code",
        "colab": {}
      },
      "source": [
        "# Importing necessary libraries\n",
        "import pandas as pd\n",
        "import numpy as np\n",
        "# Visualization libraries\n",
        "import matplotlib.pyplot as plt\n",
        "%matplotlib inline \n",
        "import seaborn as sns"
      ],
      "execution_count": 0,
      "outputs": []
    },
    {
      "cell_type": "code",
      "metadata": {
        "id": "fxIVk1zc9oEY",
        "colab_type": "code",
        "outputId": "108701ec-f355-4c3c-d769-2e1ad31e8136",
        "colab": {
          "base_uri": "https://localhost:8080/",
          "height": 202
        }
      },
      "source": [
        "# Loading the dataset\n",
        "df= pd.read_csv(\"train.csv\")\n",
        "df.head()"
      ],
      "execution_count": 0,
      "outputs": [
        {
          "output_type": "execute_result",
          "data": {
            "text/html": [
              "<div>\n",
              "<style scoped>\n",
              "    .dataframe tbody tr th:only-of-type {\n",
              "        vertical-align: middle;\n",
              "    }\n",
              "\n",
              "    .dataframe tbody tr th {\n",
              "        vertical-align: top;\n",
              "    }\n",
              "\n",
              "    .dataframe thead th {\n",
              "        text-align: right;\n",
              "    }\n",
              "</style>\n",
              "<table border=\"1\" class=\"dataframe\">\n",
              "  <thead>\n",
              "    <tr style=\"text-align: right;\">\n",
              "      <th></th>\n",
              "      <th>PassengerId</th>\n",
              "      <th>Survived</th>\n",
              "      <th>Pclass</th>\n",
              "      <th>Name</th>\n",
              "      <th>Sex</th>\n",
              "      <th>Age</th>\n",
              "      <th>SibSp</th>\n",
              "      <th>Parch</th>\n",
              "      <th>Ticket</th>\n",
              "      <th>Fare</th>\n",
              "      <th>Cabin</th>\n",
              "      <th>Embarked</th>\n",
              "    </tr>\n",
              "  </thead>\n",
              "  <tbody>\n",
              "    <tr>\n",
              "      <th>0</th>\n",
              "      <td>1</td>\n",
              "      <td>0</td>\n",
              "      <td>3</td>\n",
              "      <td>Braund, Mr. Owen Harris</td>\n",
              "      <td>male</td>\n",
              "      <td>22.0</td>\n",
              "      <td>1</td>\n",
              "      <td>0</td>\n",
              "      <td>A/5 21171</td>\n",
              "      <td>7.2500</td>\n",
              "      <td>NaN</td>\n",
              "      <td>S</td>\n",
              "    </tr>\n",
              "    <tr>\n",
              "      <th>1</th>\n",
              "      <td>2</td>\n",
              "      <td>1</td>\n",
              "      <td>1</td>\n",
              "      <td>Cumings, Mrs. John Bradley (Florence Briggs Th...</td>\n",
              "      <td>female</td>\n",
              "      <td>38.0</td>\n",
              "      <td>1</td>\n",
              "      <td>0</td>\n",
              "      <td>PC 17599</td>\n",
              "      <td>71.2833</td>\n",
              "      <td>C85</td>\n",
              "      <td>C</td>\n",
              "    </tr>\n",
              "    <tr>\n",
              "      <th>2</th>\n",
              "      <td>3</td>\n",
              "      <td>1</td>\n",
              "      <td>3</td>\n",
              "      <td>Heikkinen, Miss. Laina</td>\n",
              "      <td>female</td>\n",
              "      <td>26.0</td>\n",
              "      <td>0</td>\n",
              "      <td>0</td>\n",
              "      <td>STON/O2. 3101282</td>\n",
              "      <td>7.9250</td>\n",
              "      <td>NaN</td>\n",
              "      <td>S</td>\n",
              "    </tr>\n",
              "    <tr>\n",
              "      <th>3</th>\n",
              "      <td>4</td>\n",
              "      <td>1</td>\n",
              "      <td>1</td>\n",
              "      <td>Futrelle, Mrs. Jacques Heath (Lily May Peel)</td>\n",
              "      <td>female</td>\n",
              "      <td>35.0</td>\n",
              "      <td>1</td>\n",
              "      <td>0</td>\n",
              "      <td>113803</td>\n",
              "      <td>53.1000</td>\n",
              "      <td>C123</td>\n",
              "      <td>S</td>\n",
              "    </tr>\n",
              "    <tr>\n",
              "      <th>4</th>\n",
              "      <td>5</td>\n",
              "      <td>0</td>\n",
              "      <td>3</td>\n",
              "      <td>Allen, Mr. William Henry</td>\n",
              "      <td>male</td>\n",
              "      <td>35.0</td>\n",
              "      <td>0</td>\n",
              "      <td>0</td>\n",
              "      <td>373450</td>\n",
              "      <td>8.0500</td>\n",
              "      <td>NaN</td>\n",
              "      <td>S</td>\n",
              "    </tr>\n",
              "  </tbody>\n",
              "</table>\n",
              "</div>"
            ],
            "text/plain": [
              "   PassengerId  Survived  Pclass  ...     Fare Cabin  Embarked\n",
              "0            1         0       3  ...   7.2500   NaN         S\n",
              "1            2         1       1  ...  71.2833   C85         C\n",
              "2            3         1       3  ...   7.9250   NaN         S\n",
              "3            4         1       1  ...  53.1000  C123         S\n",
              "4            5         0       3  ...   8.0500   NaN         S\n",
              "\n",
              "[5 rows x 12 columns]"
            ]
          },
          "metadata": {
            "tags": []
          },
          "execution_count": 2
        }
      ]
    },
    {
      "cell_type": "markdown",
      "metadata": {
        "id": "9eAVCa4CBQZv",
        "colab_type": "text"
      },
      "source": [
        "**Column Description**\n",
        "\n",
        "> survival (0 = No, 1 = Yes)\n",
        "\n",
        "> pclass - \tTicket class\t(1 = 1st, 2 = 2nd, 3 = 3rd)\n",
        "\n",
        "> sex\n",
        "\n",
        "> Age\t- Age in years\t\n",
        "\n",
        "> sibsp -\t# of siblings / spouses aboard the Titanic\t\n",
        "\n",
        "> parch\t- # of parents / children aboard the Titanic\t\n",
        "\n",
        "> ticket - Ticket number\t\n",
        "\n",
        "> fare - Passenger fare\t\n",
        "\n",
        "> cabin -\tCabin number\t\n",
        "\n",
        "> embarked - Port of Embarkation (C = Cherbourg, Q = Queenstown, S = Southampton)"
      ]
    },
    {
      "cell_type": "markdown",
      "metadata": {
        "id": "OI3P3YnHUEBk",
        "colab_type": "text"
      },
      "source": [
        "\n",
        "\n",
        "## 3. Checking the Data"
      ]
    },
    {
      "cell_type": "code",
      "metadata": {
        "id": "YjSVNwgptHxY",
        "colab_type": "code",
        "outputId": "71bd039b-4066-4692-9f1e-7d41e2db84ec",
        "colab": {
          "base_uri": "https://localhost:8080/",
          "height": 34
        }
      },
      "source": [
        "# Determining the no. of records in our dataset\n",
        "# \n",
        "print('Number of records in titanic_train data: ' + str(df.shape))\n"
      ],
      "execution_count": 0,
      "outputs": [
        {
          "output_type": "stream",
          "text": [
            "Number of records in titanic_train data: (891, 12)\n"
          ],
          "name": "stdout"
        }
      ]
    },
    {
      "cell_type": "markdown",
      "metadata": {
        "id": "WiQMB-IO-qW-",
        "colab_type": "text"
      },
      "source": [
        "> We have 891 entries and 12 variables"
      ]
    },
    {
      "cell_type": "code",
      "metadata": {
        "id": "n8-dW4sQWzbc",
        "colab_type": "code",
        "outputId": "05b60f68-738e-4c01-85dd-40d5fac0ad8a",
        "colab": {
          "base_uri": "https://localhost:8080/",
          "height": 242
        }
      },
      "source": [
        "# Checking datatype of each column\n",
        "#\n",
        "df.dtypes"
      ],
      "execution_count": 0,
      "outputs": [
        {
          "output_type": "execute_result",
          "data": {
            "text/plain": [
              "PassengerId      int64\n",
              "Survived         int64\n",
              "Pclass           int64\n",
              "Name            object\n",
              "Sex             object\n",
              "Age            float64\n",
              "SibSp            int64\n",
              "Parch            int64\n",
              "Ticket          object\n",
              "Fare           float64\n",
              "Cabin           object\n",
              "Embarked        object\n",
              "dtype: object"
            ]
          },
          "metadata": {
            "tags": []
          },
          "execution_count": 4
        }
      ]
    },
    {
      "cell_type": "markdown",
      "metadata": {
        "id": "VXtG9NOrCdB_",
        "colab_type": "text"
      },
      "source": [
        "> Most features have the desired datatype.\n",
        "\n",
        "> I will encode sex and Embarked columns which will automatically transform it to integers"
      ]
    },
    {
      "cell_type": "markdown",
      "metadata": {
        "id": "ckfufNrcUHeH",
        "colab_type": "text"
      },
      "source": [
        "## 4. External Data Source Validation"
      ]
    },
    {
      "cell_type": "markdown",
      "metadata": {
        "id": "6L4sl_0WXlbg",
        "colab_type": "text"
      },
      "source": [
        "> Making sure your data matches something outside of the dataset is very important. It allows you to ensure that the measurements are roughly in line with what they should be and it serves as a check on what other things might be wrong in your dataset. External validation can often be as simple as checking your data against a single number, as we will do here.\n",
        "\n",
        ">> The data provided for analysis was appropriate and the column description was understandable hence making it easy to analyze the data and answer the main question in place. [Link](https://www.kaggle.com/c/titanic/data)."
      ]
    },
    {
      "cell_type": "markdown",
      "metadata": {
        "id": "FlBMxEDBUc9B",
        "colab_type": "text"
      },
      "source": [
        "## 5. Tidying the Dataset"
      ]
    },
    {
      "cell_type": "markdown",
      "metadata": {
        "id": "ZoFht_CohqAq",
        "colab_type": "text"
      },
      "source": [
        "**Changing categorical data to integer by encoding**"
      ]
    },
    {
      "cell_type": "code",
      "metadata": {
        "id": "Ib2LNCdtfrMF",
        "colab_type": "code",
        "colab": {}
      },
      "source": [
        "# Changing the dataset for specific columns\n",
        "# importing the library in use\n",
        "from sklearn.preprocessing import LabelEncoder\n",
        "\n",
        "encoder = LabelEncoder()\n",
        "df['Sex'] = encoder.fit_transform(df['Sex'])\n",
        "df['Embarked'] = df['Embarked'].replace({'S':0, 'C':1, 'Q':2})"
      ],
      "execution_count": 0,
      "outputs": []
    },
    {
      "cell_type": "code",
      "metadata": {
        "id": "5o_bQcT5W3Wz",
        "colab_type": "code",
        "outputId": "38ca8f12-d169-4afe-9845-1920439ef47d",
        "colab": {
          "base_uri": "https://localhost:8080/",
          "height": 405
        }
      },
      "source": [
        "# Checking for Outliers\n",
        "#Use Boxplots to check for outliers\n",
        "# Creating a list of columns  from which we will check for outliers\n",
        "#\n",
        "col_list = ['PassengerId', 'Survived', 'Pclass', 'Sex', 'Age', 'SibSp',\n",
        "       'Parch', 'Fare', 'Embarked']\n",
        "colors = ['blueviolet', 'darkorange', 'springgreen','fuchsia', 'darkorange', 'blueviolet', 'springgreen']\n",
        "\n",
        "# Plotting boxplots of the col_list columns to check for outliers\n",
        "#\n",
        "fig, axes = plt.subplots(nrows = 2, ncols = 3, figsize = (12, 6))\n",
        "plt.suptitle('Boxplots', fontsize = 15, y = 0.92, color = 'indigo')\n",
        "for ax, data, column, color in zip(axes.flatten(), df, col_list, colors):\n",
        "  sns.boxplot(df[column], ax = ax, color = color)\n",
        "  ax.set_facecolor('lavender') # Setting the background color to lavender"
      ],
      "execution_count": 0,
      "outputs": [
        {
          "output_type": "display_data",
          "data": {
            "image/png": "[encoded data removed]",
            "text/plain": [
              "<Figure size 864x432 with 6 Axes>"
            ]
          },
          "metadata": {
            "tags": []
          }
        }
      ]
    },
    {
      "cell_type": "markdown",
      "metadata": {
        "id": "3Y71dU9cimb9",
        "colab_type": "text"
      },
      "source": [
        "> We observe that the Age and Sibsp (# of siblings / spouses aboard the Titanic) column have outliers."
      ]
    },
    {
      "cell_type": "code",
      "metadata": {
        "id": "PWlukLKUvFQN",
        "colab_type": "code",
        "outputId": "93354cf8-3f84-440f-dfbb-8f59711b6edd",
        "colab": {
          "base_uri": "https://localhost:8080/",
          "height": 52
        }
      },
      "source": [
        "# Checking for Anomalies\n",
        "#Checking for duplicates in the dataset\n",
        "# \n",
        "print(df.duplicated().any())\n",
        "\n",
        "# If any, print the sum of duplicates\n",
        "print(df.duplicated().sum())"
      ],
      "execution_count": 0,
      "outputs": [
        {
          "output_type": "stream",
          "text": [
            "False\n",
            "0\n"
          ],
          "name": "stdout"
        }
      ]
    },
    {
      "cell_type": "markdown",
      "metadata": {
        "id": "fVYAVP4KjacK",
        "colab_type": "text"
      },
      "source": [
        "> There are no duplicates in the dataset hence we continue with our analysis"
      ]
    },
    {
      "cell_type": "code",
      "metadata": {
        "id": "PvCYb6dgW4yh",
        "colab_type": "code",
        "outputId": "1304b47d-47e4-4015-d74f-96defbbcaec4",
        "colab": {
          "base_uri": "https://localhost:8080/",
          "height": 242
        }
      },
      "source": [
        "# Identifying the Missing Data\n",
        "#\n",
        "print(df.isnull().sum())"
      ],
      "execution_count": 0,
      "outputs": [
        {
          "output_type": "stream",
          "text": [
            "PassengerId      0\n",
            "Survived         0\n",
            "Pclass           0\n",
            "Name             0\n",
            "Sex              0\n",
            "Age            177\n",
            "SibSp            0\n",
            "Parch            0\n",
            "Ticket           0\n",
            "Fare             0\n",
            "Cabin          687\n",
            "Embarked         2\n",
            "dtype: int64\n"
          ],
          "name": "stdout"
        }
      ]
    },
    {
      "cell_type": "markdown",
      "metadata": {
        "id": "I2gH4ekmkq-3",
        "colab_type": "text"
      },
      "source": [
        "> There are a couple of missing values in the Age and Cabin column and only 2 missing in the Embarked column.\n",
        "\n",
        ">> We will not drop the missing values because they can be used in understanding further the data by answering questions like: which was the most affected age group in the titanic tragedy? or The group that survived from the tragedy considering the age group\n"
      ]
    },
    {
      "cell_type": "code",
      "metadata": {
        "id": "IgHNgAAtPMN2",
        "colab_type": "code",
        "outputId": "6e36b6cf-dd80-4941-9e2c-ba6916b97348",
        "colab": {
          "base_uri": "https://localhost:8080/",
          "height": 202
        }
      },
      "source": [
        "# Dropping columns that we will not use for this analysis \n",
        "# \n",
        "df1 = df.drop(['PassengerId', 'Name', 'Fare', 'Cabin','Ticket'], axis=1)\n",
        "df1.head()"
      ],
      "execution_count": 0,
      "outputs": [
        {
          "output_type": "execute_result",
          "data": {
            "text/html": [
              "<div>\n",
              "<style scoped>\n",
              "    .dataframe tbody tr th:only-of-type {\n",
              "        vertical-align: middle;\n",
              "    }\n",
              "\n",
              "    .dataframe tbody tr th {\n",
              "        vertical-align: top;\n",
              "    }\n",
              "\n",
              "    .dataframe thead th {\n",
              "        text-align: right;\n",
              "    }\n",
              "</style>\n",
              "<table border=\"1\" class=\"dataframe\">\n",
              "  <thead>\n",
              "    <tr style=\"text-align: right;\">\n",
              "      <th></th>\n",
              "      <th>Survived</th>\n",
              "      <th>Pclass</th>\n",
              "      <th>Sex</th>\n",
              "      <th>Age</th>\n",
              "      <th>SibSp</th>\n",
              "      <th>Parch</th>\n",
              "      <th>Embarked</th>\n",
              "    </tr>\n",
              "  </thead>\n",
              "  <tbody>\n",
              "    <tr>\n",
              "      <th>0</th>\n",
              "      <td>0</td>\n",
              "      <td>3</td>\n",
              "      <td>1</td>\n",
              "      <td>22.0</td>\n",
              "      <td>1</td>\n",
              "      <td>0</td>\n",
              "      <td>0.0</td>\n",
              "    </tr>\n",
              "    <tr>\n",
              "      <th>1</th>\n",
              "      <td>1</td>\n",
              "      <td>1</td>\n",
              "      <td>0</td>\n",
              "      <td>38.0</td>\n",
              "      <td>1</td>\n",
              "      <td>0</td>\n",
              "      <td>1.0</td>\n",
              "    </tr>\n",
              "    <tr>\n",
              "      <th>2</th>\n",
              "      <td>1</td>\n",
              "      <td>3</td>\n",
              "      <td>0</td>\n",
              "      <td>26.0</td>\n",
              "      <td>0</td>\n",
              "      <td>0</td>\n",
              "      <td>0.0</td>\n",
              "    </tr>\n",
              "    <tr>\n",
              "      <th>3</th>\n",
              "      <td>1</td>\n",
              "      <td>1</td>\n",
              "      <td>0</td>\n",
              "      <td>35.0</td>\n",
              "      <td>1</td>\n",
              "      <td>0</td>\n",
              "      <td>0.0</td>\n",
              "    </tr>\n",
              "    <tr>\n",
              "      <th>4</th>\n",
              "      <td>0</td>\n",
              "      <td>3</td>\n",
              "      <td>1</td>\n",
              "      <td>35.0</td>\n",
              "      <td>0</td>\n",
              "      <td>0</td>\n",
              "      <td>0.0</td>\n",
              "    </tr>\n",
              "  </tbody>\n",
              "</table>\n",
              "</div>"
            ],
            "text/plain": [
              "   Survived  Pclass  Sex   Age  SibSp  Parch  Embarked\n",
              "0         0       3    1  22.0      1      0       0.0\n",
              "1         1       1    0  38.0      1      0       1.0\n",
              "2         1       3    0  26.0      0      0       0.0\n",
              "3         1       1    0  35.0      1      0       0.0\n",
              "4         0       3    1  35.0      0      0       0.0"
            ]
          },
          "metadata": {
            "tags": []
          },
          "execution_count": 9
        }
      ]
    },
    {
      "cell_type": "markdown",
      "metadata": {
        "id": "-lV0eC3Lt1JU",
        "colab_type": "text"
      },
      "source": [
        "> We dropped the passengerId because it does not give much information about our main target variable about the people who either survived or not\n",
        "\n",
        "> Dropped Name column to reserve confidential rights of the passengers\n",
        "\n",
        "> Dropped the Fare column since we had the Pclass which represented the fare in that the classes were ranked in accordance to the amount paid.\n",
        "\n",
        ">> Loooking at the distribution of the fare, fare for a particular class rangers within the same values in all 3 classes"
      ]
    },
    {
      "cell_type": "code",
      "metadata": {
        "id": "eBErdnS7riCH",
        "colab_type": "code",
        "outputId": "7a6fd79f-a09b-40f9-9bc6-f2b2c1277858",
        "colab": {
          "base_uri": "https://localhost:8080/",
          "height": 34
        }
      },
      "source": [
        "# Dropping null values in the Embarked column since they're only 2\n",
        "# \n",
        "df2 = df1.dropna(subset = ['Embarked'])\n",
        "df2.Embarked.nunique()"
      ],
      "execution_count": 0,
      "outputs": [
        {
          "output_type": "execute_result",
          "data": {
            "text/plain": [
              "3"
            ]
          },
          "metadata": {
            "tags": []
          },
          "execution_count": 11
        }
      ]
    },
    {
      "cell_type": "markdown",
      "metadata": {
        "id": "0vORgMnztj0f",
        "colab_type": "text"
      },
      "source": [
        "> That means we have only 3 entries left i.e C = Cherbourg, Q = Queenstown, S = Southampton"
      ]
    },
    {
      "cell_type": "markdown",
      "metadata": {
        "id": "k8S8082F3C4n",
        "colab_type": "text"
      },
      "source": [
        " **Summary Statistics**"
      ]
    },
    {
      "cell_type": "code",
      "metadata": {
        "id": "yApoNjio3PPO",
        "colab_type": "code",
        "outputId": "ef6ebbfe-f185-46ad-9996-63a2aca2c838",
        "colab": {
          "base_uri": "https://localhost:8080/",
          "height": 294
        }
      },
      "source": [
        "# Getting summary statistics about the dataset\n",
        "# Taking a copy of the dataset\n",
        "df2.describe()"
      ],
      "execution_count": 0,
      "outputs": [
        {
          "output_type": "execute_result",
          "data": {
            "text/html": [
              "<div>\n",
              "<style scoped>\n",
              "    .dataframe tbody tr th:only-of-type {\n",
              "        vertical-align: middle;\n",
              "    }\n",
              "\n",
              "    .dataframe tbody tr th {\n",
              "        vertical-align: top;\n",
              "    }\n",
              "\n",
              "    .dataframe thead th {\n",
              "        text-align: right;\n",
              "    }\n",
              "</style>\n",
              "<table border=\"1\" class=\"dataframe\">\n",
              "  <thead>\n",
              "    <tr style=\"text-align: right;\">\n",
              "      <th></th>\n",
              "      <th>Survived</th>\n",
              "      <th>Pclass</th>\n",
              "      <th>Sex</th>\n",
              "      <th>Age</th>\n",
              "      <th>SibSp</th>\n",
              "      <th>Parch</th>\n",
              "      <th>Embarked</th>\n",
              "    </tr>\n",
              "  </thead>\n",
              "  <tbody>\n",
              "    <tr>\n",
              "      <th>count</th>\n",
              "      <td>889.000000</td>\n",
              "      <td>889.000000</td>\n",
              "      <td>889.000000</td>\n",
              "      <td>712.000000</td>\n",
              "      <td>889.000000</td>\n",
              "      <td>889.000000</td>\n",
              "      <td>889.000000</td>\n",
              "    </tr>\n",
              "    <tr>\n",
              "      <th>mean</th>\n",
              "      <td>0.382452</td>\n",
              "      <td>2.311586</td>\n",
              "      <td>0.649044</td>\n",
              "      <td>29.642093</td>\n",
              "      <td>0.524184</td>\n",
              "      <td>0.382452</td>\n",
              "      <td>0.362205</td>\n",
              "    </tr>\n",
              "    <tr>\n",
              "      <th>std</th>\n",
              "      <td>0.486260</td>\n",
              "      <td>0.834700</td>\n",
              "      <td>0.477538</td>\n",
              "      <td>14.492933</td>\n",
              "      <td>1.103705</td>\n",
              "      <td>0.806761</td>\n",
              "      <td>0.636157</td>\n",
              "    </tr>\n",
              "    <tr>\n",
              "      <th>min</th>\n",
              "      <td>0.000000</td>\n",
              "      <td>1.000000</td>\n",
              "      <td>0.000000</td>\n",
              "      <td>0.420000</td>\n",
              "      <td>0.000000</td>\n",
              "      <td>0.000000</td>\n",
              "      <td>0.000000</td>\n",
              "    </tr>\n",
              "    <tr>\n",
              "      <th>25%</th>\n",
              "      <td>0.000000</td>\n",
              "      <td>2.000000</td>\n",
              "      <td>0.000000</td>\n",
              "      <td>20.000000</td>\n",
              "      <td>0.000000</td>\n",
              "      <td>0.000000</td>\n",
              "      <td>0.000000</td>\n",
              "    </tr>\n",
              "    <tr>\n",
              "      <th>50%</th>\n",
              "      <td>0.000000</td>\n",
              "      <td>3.000000</td>\n",
              "      <td>1.000000</td>\n",
              "      <td>28.000000</td>\n",
              "      <td>0.000000</td>\n",
              "      <td>0.000000</td>\n",
              "      <td>0.000000</td>\n",
              "    </tr>\n",
              "    <tr>\n",
              "      <th>75%</th>\n",
              "      <td>1.000000</td>\n",
              "      <td>3.000000</td>\n",
              "      <td>1.000000</td>\n",
              "      <td>38.000000</td>\n",
              "      <td>1.000000</td>\n",
              "      <td>0.000000</td>\n",
              "      <td>1.000000</td>\n",
              "    </tr>\n",
              "    <tr>\n",
              "      <th>max</th>\n",
              "      <td>1.000000</td>\n",
              "      <td>3.000000</td>\n",
              "      <td>1.000000</td>\n",
              "      <td>80.000000</td>\n",
              "      <td>8.000000</td>\n",
              "      <td>6.000000</td>\n",
              "      <td>2.000000</td>\n",
              "    </tr>\n",
              "  </tbody>\n",
              "</table>\n",
              "</div>"
            ],
            "text/plain": [
              "         Survived      Pclass         Sex  ...       SibSp       Parch    Embarked\n",
              "count  889.000000  889.000000  889.000000  ...  889.000000  889.000000  889.000000\n",
              "mean     0.382452    2.311586    0.649044  ...    0.524184    0.382452    0.362205\n",
              "std      0.486260    0.834700    0.477538  ...    1.103705    0.806761    0.636157\n",
              "min      0.000000    1.000000    0.000000  ...    0.000000    0.000000    0.000000\n",
              "25%      0.000000    2.000000    0.000000  ...    0.000000    0.000000    0.000000\n",
              "50%      0.000000    3.000000    1.000000  ...    0.000000    0.000000    0.000000\n",
              "75%      1.000000    3.000000    1.000000  ...    1.000000    0.000000    1.000000\n",
              "max      1.000000    3.000000    1.000000  ...    8.000000    6.000000    2.000000\n",
              "\n",
              "[8 rows x 7 columns]"
            ]
          },
          "metadata": {
            "tags": []
          },
          "execution_count": 12
        }
      ]
    },
    {
      "cell_type": "markdown",
      "metadata": {
        "id": "sJzhwSZ53ac9",
        "colab_type": "text"
      },
      "source": [
        "> There was a total of 891 passengers on board at the time of the tragedy\n",
        "> The average age of the people on board was 30 with the most aged person being 80 years\n",
        "\n",
        ">"
      ]
    },
    {
      "cell_type": "markdown",
      "metadata": {
        "id": "0UheeItWpHzq",
        "colab_type": "text"
      },
      "source": [
        "## 6. Exploratory Analysis"
      ]
    },
    {
      "cell_type": "markdown",
      "metadata": {
        "id": "duKzLxfepOe8",
        "colab_type": "text"
      },
      "source": [
        "## a) Univariate Analysis"
      ]
    },
    {
      "cell_type": "code",
      "metadata": {
        "id": "HY94GauvzraE",
        "colab_type": "code",
        "outputId": "238a94d0-057c-43c6-9743-b97e74bad301",
        "colab": {
          "base_uri": "https://localhost:8080/",
          "height": 264
        }
      },
      "source": [
        "# Checking the survival rate distribution\n",
        "# \n",
        "labels = ['No', 'Yes']\n",
        "sizes = [215,130]\n",
        "colors = ['blue', 'maroon']\n",
        "plt.pie(sizes, labels=labels, colors=colors, shadow=True,startangle=140)\n",
        "plt.axis('equal')\n",
        "plt.title('Survival distribution')\n",
        "plt.show()\n",
        "\n",
        " "
      ],
      "execution_count": 0,
      "outputs": [
        {
          "output_type": "display_data",
          "data": {
            "image/png": "[encoded data removed]",
            "text/plain": [
              "<Figure size 432x288 with 1 Axes>"
            ]
          },
          "metadata": {
            "tags": []
          }
        }
      ]
    },
    {
      "cell_type": "markdown",
      "metadata": {
        "id": "X93Q-5kH2LOj",
        "colab_type": "text"
      },
      "source": [
        "> We observe from the above analyis that most people on board did not survive\n",
        "\n",
        ">> Less than half the people on board survived."
      ]
    },
    {
      "cell_type": "code",
      "metadata": {
        "id": "QZRWWYq76FNl",
        "colab_type": "code",
        "outputId": "a7f1f23d-63cb-4869-97cc-3c8562c1849c",
        "colab": {
          "base_uri": "https://localhost:8080/",
          "height": 296
        }
      },
      "source": [
        "#  Checking the distribution of Pclass column\n",
        "# \n",
        "sns.set_style('dark')\n",
        "sns.countplot(x='Pclass',data=df2)"
      ],
      "execution_count": 0,
      "outputs": [
        {
          "output_type": "execute_result",
          "data": {
            "text/plain": [
              "<matplotlib.axes._subplots.AxesSubplot at 0x7f09e2ecf7f0>"
            ]
          },
          "metadata": {
            "tags": []
          },
          "execution_count": 14
        },
        {
          "output_type": "display_data",
          "data": {
            "image/png": "[encoded data removed]",
            "text/plain": [
              "<Figure size 432x288 with 1 Axes>"
            ]
          },
          "metadata": {
            "tags": []
          }
        }
      ]
    },
    {
      "cell_type": "markdown",
      "metadata": {
        "id": "0eL3L2oe761o",
        "colab_type": "text"
      },
      "source": [
        "> From external data source, the 1st class cabin was very fancy compared to the 3rd class which explains the observation above that there was a big number of passengers in the 3rd class"
      ]
    },
    {
      "cell_type": "code",
      "metadata": {
        "id": "QFlz-FlFHJCF",
        "colab_type": "code",
        "outputId": "0d8b8553-3fd0-4e6f-fc65-f05bfa3be501",
        "colab": {
          "base_uri": "https://localhost:8080/",
          "height": 298
        }
      },
      "source": [
        "#  Checking the distribution of Sex column\n",
        "# \n",
        "sns.set_style('white')\n",
        "sns.countplot(x='Sex',data=df2)"
      ],
      "execution_count": 0,
      "outputs": [
        {
          "output_type": "execute_result",
          "data": {
            "text/plain": [
              "<matplotlib.axes._subplots.AxesSubplot at 0x7f09ef807518>"
            ]
          },
          "metadata": {
            "tags": []
          },
          "execution_count": 15
        },
        {
          "output_type": "display_data",
          "data": {
            "image/png": "[encoded data removed]",
            "text/plain": [
              "<Figure size 432x288 with 1 Axes>"
            ]
          },
          "metadata": {
            "tags": []
          }
        }
      ]
    },
    {
      "cell_type": "code",
      "metadata": {
        "id": "q96dcGXyU65K",
        "colab_type": "code",
        "outputId": "33877110-5361-4e66-e82a-cac8225bedc2",
        "colab": {
          "base_uri": "https://localhost:8080/",
          "height": 296
        }
      },
      "source": [
        "#  Visualizing the distribution of Sex column\n",
        "# \n",
        "sns.set_style('white')\n",
        "sns.countplot(x='SibSp',data=df2)"
      ],
      "execution_count": 0,
      "outputs": [
        {
          "output_type": "execute_result",
          "data": {
            "text/plain": [
              "<matplotlib.axes._subplots.AxesSubplot at 0x7f09e2e10be0>"
            ]
          },
          "metadata": {
            "tags": []
          },
          "execution_count": 16
        },
        {
          "output_type": "display_data",
          "data": {
            "image/png": "[encoded data removed]",
            "text/plain": [
              "<Figure size 432x288 with 1 Axes>"
            ]
          },
          "metadata": {
            "tags": []
          }
        }
      ]
    },
    {
      "cell_type": "markdown",
      "metadata": {
        "id": "wNc0x-R3VKzG",
        "colab_type": "text"
      },
      "source": [
        "> The number of siblings / spouses aboard the Titanic decreased as the number increased.\n",
        "\n",
        ">> 0 has the highest frequency which means that most the passengers did not have either siblings or spouses on board"
      ]
    },
    {
      "cell_type": "code",
      "metadata": {
        "id": "QFwLuVzBVYgH",
        "colab_type": "code",
        "outputId": "718f6b3b-4772-4d54-a1b5-354aef4407cc",
        "colab": {
          "base_uri": "https://localhost:8080/",
          "height": 297
        }
      },
      "source": [
        "#  Visualizing the distribution of Sex column\n",
        "# \n",
        "sns.set_style('white')\n",
        "sns.countplot(x='Parch',data=df2)"
      ],
      "execution_count": 0,
      "outputs": [
        {
          "output_type": "execute_result",
          "data": {
            "text/plain": [
              "<matplotlib.axes._subplots.AxesSubplot at 0x7f09e2d6fb00>"
            ]
          },
          "metadata": {
            "tags": []
          },
          "execution_count": 17
        },
        {
          "output_type": "display_data",
          "data": {
            "image/png": "[encoded data removed]",
            "text/plain": [
              "<Figure size 432x288 with 1 Axes>"
            ]
          },
          "metadata": {
            "tags": []
          }
        }
      ]
    },
    {
      "cell_type": "markdown",
      "metadata": {
        "id": "oqiVek6wV0M-",
        "colab_type": "text"
      },
      "source": [
        "> Number of parents / children aboard the Titanic reduces as the value increases\n",
        "\n",
        ">> Most passengers di"
      ]
    },
    {
      "cell_type": "markdown",
      "metadata": {
        "id": "5hSQlGwlHbKD",
        "colab_type": "text"
      },
      "source": [
        "> There were more male passengers on board compares=d to the ladies as shown in the distribution above."
      ]
    },
    {
      "cell_type": "markdown",
      "metadata": {
        "id": "-lcbtTbYNP80",
        "colab_type": "text"
      },
      "source": [
        "## Age column imputation process"
      ]
    },
    {
      "cell_type": "code",
      "metadata": {
        "id": "w1GcGp39FimE",
        "colab_type": "code",
        "outputId": "87e1abad-951d-4b78-8ed2-231764458fea",
        "colab": {
          "base_uri": "https://localhost:8080/",
          "height": 296
        }
      },
      "source": [
        "# Plotting the distribution of age column to see how age is distribututed before imputing\n",
        "# with the right values\n",
        "# We will workout the code with the dropna() clause to see how the data is distributed\n",
        "# \n",
        "sns.distplot(df2['Age'].dropna(),kde=False,color='blue',bins=40)"
      ],
      "execution_count": 0,
      "outputs": [
        {
          "output_type": "execute_result",
          "data": {
            "text/plain": [
              "<matplotlib.axes._subplots.AxesSubplot at 0x7f09e2d56048>"
            ]
          },
          "metadata": {
            "tags": []
          },
          "execution_count": 18
        },
        {
          "output_type": "display_data",
          "data": {
            "image/png": "[encoded data removed]",
            "text/plain": [
              "<Figure size 432x288 with 1 Axes>"
            ]
          },
          "metadata": {
            "tags": []
          }
        }
      ]
    },
    {
      "cell_type": "markdown",
      "metadata": {
        "id": "-X_g86kZKLnh",
        "colab_type": "text"
      },
      "source": [
        "> From the distribution above, data is skewed to the left which means that most people on board were of age of between 20-35\n",
        "\n",
        "> This can be corrected by imputing with appropriate values to get a normal distribution of the data"
      ]
    },
    {
      "cell_type": "code",
      "metadata": {
        "id": "6Wj1SaoqNZay",
        "colab_type": "code",
        "outputId": "b29220d7-8e57-430f-cdfa-3f99eae377f1",
        "colab": {
          "base_uri": "https://localhost:8080/",
          "height": 460
        }
      },
      "source": [
        "# Plotting a box plot to see the distribution of age in the different classes\n",
        "# \n",
        "plt.figure(figsize=(10, 7))\n",
        "sns.boxplot(x='Pclass',y='Age',data=df2,palette='winter')"
      ],
      "execution_count": 0,
      "outputs": [
        {
          "output_type": "execute_result",
          "data": {
            "text/plain": [
              "<matplotlib.axes._subplots.AxesSubplot at 0x7f09e2d56dd8>"
            ]
          },
          "metadata": {
            "tags": []
          },
          "execution_count": 19
        },
        {
          "output_type": "display_data",
          "data": {
            "image/png": "[encoded data removed]",
            "text/plain": [
              "<Figure size 720x504 with 1 Axes>"
            ]
          },
          "metadata": {
            "tags": []
          }
        }
      ]
    },
    {
      "cell_type": "markdown",
      "metadata": {
        "id": "oFNmeIo5NuNx",
        "colab_type": "text"
      },
      "source": [
        "> The boxplot helps us visualize the age distribution in the various quantiles for the 3 classes\n",
        "\n",
        ">> For class 1, the median age was around 37 years, 28 years for second class and 25 years for the passengers in the third class\n",
        "\n",
        ">We therefore create a function to iterate through the 3 classes replacing the missing value with the appropriate value for that class"
      ]
    },
    {
      "cell_type": "code",
      "metadata": {
        "id": "Sj7pHnsFOGWX",
        "colab_type": "code",
        "outputId": "73a6e8af-fb54-47e4-f65a-df0b471c3a08",
        "colab": {
          "base_uri": "https://localhost:8080/",
          "height": 104
        }
      },
      "source": [
        "# Creating a fucntion to iterate through the 3 classes\n",
        "# \n",
        "def impute_age(cols):\n",
        "    Age = cols[0]\n",
        "    Pclass = cols[1]\n",
        "    \n",
        "    if pd.isnull(Age):\n",
        "\n",
        "        if Pclass == 1:\n",
        "            return 37\n",
        "\n",
        "        elif Pclass == 2:\n",
        "            return 28\n",
        "\n",
        "        else:\n",
        "            return 25\n",
        "\n",
        "    else:\n",
        "        return Age\n",
        "# Applying the function above\n",
        "df2['Age'] = df2[['Age','Pclass']].apply(impute_age,axis=1) "
      ],
      "execution_count": 0,
      "outputs": [
        {
          "output_type": "stream",
          "text": [
            "/usr/local/lib/python3.6/dist-packages/ipykernel_launcher.py:19: SettingWithCopyWarning: \n",
            "A value is trying to be set on a copy of a slice from a DataFrame.\n",
            "Try using .loc[row_indexer,col_indexer] = value instead\n",
            "\n",
            "See the caveats in the documentation: http://pandas.pydata.org/pandas-docs/stable/user_guide/indexing.html#returning-a-view-versus-a-copy\n"
          ],
          "name": "stderr"
        }
      ]
    },
    {
      "cell_type": "code",
      "metadata": {
        "id": "sktxU9aBOoAp",
        "colab_type": "code",
        "outputId": "b00660d0-58c0-4d8a-c601-0714a08bb852",
        "colab": {
          "base_uri": "https://localhost:8080/",
          "height": 296
        }
      },
      "source": [
        "# Plotting the age column again to see the distribution after imputation\n",
        "# \n",
        "sns.distplot(df2['Age'].dropna(),kde=False,color='blue',bins=40)"
      ],
      "execution_count": 0,
      "outputs": [
        {
          "output_type": "execute_result",
          "data": {
            "text/plain": [
              "<matplotlib.axes._subplots.AxesSubplot at 0x7f09e2bb8c88>"
            ]
          },
          "metadata": {
            "tags": []
          },
          "execution_count": 21
        },
        {
          "output_type": "display_data",
          "data": {
            "image/png": "[encoded data removed]",
            "text/plain": [
              "<Figure size 432x288 with 1 Axes>"
            ]
          },
          "metadata": {
            "tags": []
          }
        }
      ]
    },
    {
      "cell_type": "markdown",
      "metadata": {
        "id": "yz7srhBVO0E1",
        "colab_type": "text"
      },
      "source": [
        "> The data is normally distributed after the replacing the missing values with te appropriate values"
      ]
    },
    {
      "cell_type": "markdown",
      "metadata": {
        "id": "V0d3X41fr9Vu",
        "colab_type": "text"
      },
      "source": [
        "## b) Bivariate Analysis"
      ]
    },
    {
      "cell_type": "code",
      "metadata": {
        "id": "uzJ6RMQUsDDb",
        "colab_type": "code",
        "outputId": "807254b8-d885-49a1-b8a1-7e3171f157ca",
        "colab": {
          "base_uri": "https://localhost:8080/",
          "height": 400
        }
      },
      "source": [
        "#  Comparing Survived column and Sex column to understand who survided more, either Male or Female\n",
        "# \n",
        "# Doing value counts for Survived and Sex column\n",
        "print(df2['Survived'].value_counts())\n",
        "print(df2['Sex'].value_counts())\n",
        "# \n",
        "sns.set_style('whitegrid')\n",
        "sns.countplot(x='Survived',hue='Sex',data=df2,palette='deep')"
      ],
      "execution_count": 0,
      "outputs": [
        {
          "output_type": "stream",
          "text": [
            "0    549\n",
            "1    340\n",
            "Name: Survived, dtype: int64\n",
            "1    577\n",
            "0    312\n",
            "Name: Sex, dtype: int64\n"
          ],
          "name": "stdout"
        },
        {
          "output_type": "execute_result",
          "data": {
            "text/plain": [
              "<matplotlib.axes._subplots.AxesSubplot at 0x7f09e2bb86d8>"
            ]
          },
          "metadata": {
            "tags": []
          },
          "execution_count": 23
        },
        {
          "output_type": "display_data",
          "data": {
            "image/png": "[encoded data removed]",
            "text/plain": [
              "<Figure size 432x288 with 1 Axes>"
            ]
          },
          "metadata": {
            "tags": []
          }
        }
      ]
    },
    {
      "cell_type": "markdown",
      "metadata": {
        "id": "JZLWQevSt13f",
        "colab_type": "text"
      },
      "source": [
        "> Most male passengers did not survive the accident compared to the ladies who survived.\n",
        "\n",
        ">> This could translate to many females being saved than men"
      ]
    },
    {
      "cell_type": "code",
      "metadata": {
        "id": "laF5K-0Guig7",
        "colab_type": "code",
        "outputId": "3dc89be5-5fb3-49ec-ffb3-6fb13408286a",
        "colab": {
          "base_uri": "https://localhost:8080/",
          "height": 417
        }
      },
      "source": [
        "#  Comparing Survived column and Pclass column to understand who survided more,  and from which class\n",
        "# \n",
        "# Doing value counts for Survived and Pclass column\n",
        "print(df2['Survived'].value_counts())\n",
        "print(df2['Pclass'].value_counts())\n",
        "# \n",
        "sns.set_style('whitegrid')\n",
        "sns.countplot(x='Survived',hue='Pclass',data=df2,palette='muted')"
      ],
      "execution_count": 0,
      "outputs": [
        {
          "output_type": "stream",
          "text": [
            "0    549\n",
            "1    340\n",
            "Name: Survived, dtype: int64\n",
            "3    491\n",
            "1    214\n",
            "2    184\n",
            "Name: Pclass, dtype: int64\n"
          ],
          "name": "stdout"
        },
        {
          "output_type": "execute_result",
          "data": {
            "text/plain": [
              "<matplotlib.axes._subplots.AxesSubplot at 0x7f09e2a07c50>"
            ]
          },
          "metadata": {
            "tags": []
          },
          "execution_count": 24
        },
        {
          "output_type": "display_data",
          "data": {
            "image/png": "[encoded data removed]",
            "text/plain": [
              "<Figure size 432x288 with 1 Axes>"
            ]
          },
          "metadata": {
            "tags": []
          }
        }
      ]
    },
    {
      "cell_type": "markdown",
      "metadata": {
        "id": "jNJ3vO-NvD8Y",
        "colab_type": "text"
      },
      "source": [
        "> Passengers from the 3 class died in high numbers followed by the 2nd and 1st class respectively in accordance to the plot above.\n",
        "\n",
        "> Passengers in the 1st class survived most since evaculation for them was easy"
      ]
    },
    {
      "cell_type": "code",
      "metadata": {
        "id": "hNX-Qm1Dao_M",
        "colab_type": "code",
        "outputId": "175699b0-2839-4ca3-a295-5fbbdfed287d",
        "colab": {
          "base_uri": "https://localhost:8080/",
          "height": 421
        }
      },
      "source": [
        "# Checking the survival rate based on age. Here we change the age group that survived most\n",
        "# in the tragedy\n",
        "# \n",
        "sns.FacetGrid(df2, hue='Survived',size=5).map(sns.distplot, 'Age').add_legend()"
      ],
      "execution_count": 0,
      "outputs": [
        {
          "output_type": "stream",
          "text": [
            "/usr/local/lib/python3.6/dist-packages/seaborn/axisgrid.py:243: UserWarning: The `size` parameter has been renamed to `height`; please update your code.\n",
            "  warnings.warn(msg, UserWarning)\n"
          ],
          "name": "stderr"
        },
        {
          "output_type": "execute_result",
          "data": {
            "text/plain": [
              "<seaborn.axisgrid.FacetGrid at 0x7f09e2b11c18>"
            ]
          },
          "metadata": {
            "tags": []
          },
          "execution_count": 25
        },
        {
          "output_type": "display_data",
          "data": {
            "image/png": "[encoded data removed]",
            "text/plain": [
              "<Figure size 411.875x360 with 1 Axes>"
            ]
          },
          "metadata": {
            "tags": []
          }
        }
      ]
    },
    {
      "cell_type": "markdown",
      "metadata": {
        "id": "xmMdKHbtb2kQ",
        "colab_type": "text"
      },
      "source": [
        "> Most passengers of age 20 - 30 did not survive the tragedy\n",
        "\n",
        "> A few passengers survived across all the age groups"
      ]
    },
    {
      "cell_type": "markdown",
      "metadata": {
        "id": "1LLVzevSdnSW",
        "colab_type": "text"
      },
      "source": [
        "## c) Multivariate Analysis"
      ]
    },
    {
      "cell_type": "code",
      "metadata": {
        "id": "s4DUNHfehlOP",
        "colab_type": "code",
        "outputId": "27458880-06d4-4a41-f6ea-09b9f242b284",
        "colab": {
          "base_uri": "https://localhost:8080/",
          "height": 294
        }
      },
      "source": [
        "#  Create a heatmap\n",
        "# Finding the relations between the variables.\n",
        "# Getting the correlation matrix\n",
        "corr_matrix = df2.corr()\n",
        "corr_matrix.describe()\n"
      ],
      "execution_count": 0,
      "outputs": [
        {
          "output_type": "execute_result",
          "data": {
            "text/html": [
              "<div>\n",
              "<style scoped>\n",
              "    .dataframe tbody tr th:only-of-type {\n",
              "        vertical-align: middle;\n",
              "    }\n",
              "\n",
              "    .dataframe tbody tr th {\n",
              "        vertical-align: top;\n",
              "    }\n",
              "\n",
              "    .dataframe thead th {\n",
              "        text-align: right;\n",
              "    }\n",
              "</style>\n",
              "<table border=\"1\" class=\"dataframe\">\n",
              "  <thead>\n",
              "    <tr style=\"text-align: right;\">\n",
              "      <th></th>\n",
              "      <th>Survived</th>\n",
              "      <th>Pclass</th>\n",
              "      <th>Sex</th>\n",
              "      <th>Age</th>\n",
              "      <th>SibSp</th>\n",
              "      <th>Parch</th>\n",
              "      <th>Embarked</th>\n",
              "    </tr>\n",
              "  </thead>\n",
              "  <tbody>\n",
              "    <tr>\n",
              "      <th>count</th>\n",
              "      <td>7.000000</td>\n",
              "      <td>7.000000</td>\n",
              "      <td>7.000000</td>\n",
              "      <td>7.000000</td>\n",
              "      <td>7.000000</td>\n",
              "      <td>7.000000</td>\n",
              "      <td>7.000000</td>\n",
              "    </tr>\n",
              "    <tr>\n",
              "      <th>mean</th>\n",
              "      <td>0.032179</td>\n",
              "      <td>0.076755</td>\n",
              "      <td>0.026924</td>\n",
              "      <td>0.026021</td>\n",
              "      <td>0.149090</td>\n",
              "      <td>0.145019</td>\n",
              "      <td>0.122588</td>\n",
              "    </tr>\n",
              "    <tr>\n",
              "      <th>std</th>\n",
              "      <td>0.486760</td>\n",
              "      <td>0.457225</td>\n",
              "      <td>0.483150</td>\n",
              "      <td>0.456931</td>\n",
              "      <td>0.428105</td>\n",
              "      <td>0.433811</td>\n",
              "      <td>0.394515</td>\n",
              "    </tr>\n",
              "    <tr>\n",
              "      <th>min</th>\n",
              "      <td>-0.541585</td>\n",
              "      <td>-0.397224</td>\n",
              "      <td>-0.541585</td>\n",
              "      <td>-0.397224</td>\n",
              "      <td>-0.241573</td>\n",
              "      <td>-0.247508</td>\n",
              "      <td>-0.118593</td>\n",
              "    </tr>\n",
              "    <tr>\n",
              "      <th>25%</th>\n",
              "      <td>-0.195471</td>\n",
              "      <td>-0.159362</td>\n",
              "      <td>-0.183050</td>\n",
              "      <td>-0.207063</td>\n",
              "      <td>-0.088477</td>\n",
              "      <td>-0.125937</td>\n",
              "      <td>-0.069963</td>\n",
              "    </tr>\n",
              "    <tr>\n",
              "      <th>50%</th>\n",
              "      <td>-0.034040</td>\n",
              "      <td>0.043835</td>\n",
              "      <td>-0.116348</td>\n",
              "      <td>-0.055394</td>\n",
              "      <td>-0.034040</td>\n",
              "      <td>0.016824</td>\n",
              "      <td>-0.035866</td>\n",
              "    </tr>\n",
              "    <tr>\n",
              "      <th>75%</th>\n",
              "      <td>0.095910</td>\n",
              "      <td>0.104698</td>\n",
              "      <td>0.106250</td>\n",
              "      <td>0.024446</td>\n",
              "      <td>0.248099</td>\n",
              "      <td>0.248846</td>\n",
              "      <td>0.076252</td>\n",
              "    </tr>\n",
              "    <tr>\n",
              "      <th>max</th>\n",
              "      <td>1.000000</td>\n",
              "      <td>1.000000</td>\n",
              "      <td>1.000000</td>\n",
              "      <td>1.000000</td>\n",
              "      <td>1.000000</td>\n",
              "      <td>1.000000</td>\n",
              "      <td>1.000000</td>\n",
              "    </tr>\n",
              "  </tbody>\n",
              "</table>\n",
              "</div>"
            ],
            "text/plain": [
              "       Survived    Pclass       Sex       Age     SibSp     Parch  Embarked\n",
              "count  7.000000  7.000000  7.000000  7.000000  7.000000  7.000000  7.000000\n",
              "mean   0.032179  0.076755  0.026924  0.026021  0.149090  0.145019  0.122588\n",
              "std    0.486760  0.457225  0.483150  0.456931  0.428105  0.433811  0.394515\n",
              "min   -0.541585 -0.397224 -0.541585 -0.397224 -0.241573 -0.247508 -0.118593\n",
              "25%   -0.195471 -0.159362 -0.183050 -0.207063 -0.088477 -0.125937 -0.069963\n",
              "50%   -0.034040  0.043835 -0.116348 -0.055394 -0.034040  0.016824 -0.035866\n",
              "75%    0.095910  0.104698  0.106250  0.024446  0.248099  0.248846  0.076252\n",
              "max    1.000000  1.000000  1.000000  1.000000  1.000000  1.000000  1.000000"
            ]
          },
          "metadata": {
            "tags": []
          },
          "execution_count": 26
        }
      ]
    },
    {
      "cell_type": "code",
      "metadata": {
        "id": "iTHQ-G4_jhun",
        "colab_type": "code",
        "outputId": "03c79a8e-ab8d-48ba-f081-0c88a49952d3",
        "colab": {
          "base_uri": "https://localhost:8080/",
          "height": 498
        }
      },
      "source": [
        "# Plotting a heatmap to visualize the correlation between different features\n",
        "# \n",
        "plt.figure(figsize = (10, 8))\n",
        "sns.heatmap(df2.corr(), annot = True) \n",
        "plt.title('Correlation between Features')\n",
        "plt.show()"
      ],
      "execution_count": 0,
      "outputs": [
        {
          "output_type": "display_data",
          "data": {
            "image/png": "[encoded data removed]",
            "text/plain": [
              "<Figure size 720x576 with 2 Axes>"
            ]
          },
          "metadata": {
            "tags": []
          }
        }
      ]
    },
    {
      "cell_type": "markdown",
      "metadata": {
        "id": "hjvlRArkkR8g",
        "colab_type": "text"
      },
      "source": [
        "> The correlation value between the features was good enough in that  none of the features where highly correlated to the point of affecting the performance of our model"
      ]
    },
    {
      "cell_type": "markdown",
      "metadata": {
        "id": "vTbdjSrhVIiT",
        "colab_type": "text"
      },
      "source": [
        "## 7. Implementing the Solution"
      ]
    },
    {
      "cell_type": "markdown",
      "metadata": {
        "id": "CI-jorY5cvAb",
        "colab_type": "text"
      },
      "source": [
        "> We start by creating a baseline model to be able to base our modelling in this in that we will use the model to compare with the rest of the models to be created.\n",
        "\n",
        ">> We use Logistic Model as our baseline model.\n",
        "\n",
        "> Logistic regression is the appropriate regression analysis to conduct when the dependent variable is binary. For our case, the target variable(Survived) is binary (0 = No, 1 = Yes)"
      ]
    },
    {
      "cell_type": "markdown",
      "metadata": {
        "id": "Wo7UjEvRvc5p",
        "colab_type": "text"
      },
      "source": [
        "## a) Logistic Regression Model"
      ]
    },
    {
      "cell_type": "code",
      "metadata": {
        "id": "PJLZaRzJXJ3w",
        "colab_type": "code",
        "outputId": "353e73e1-a987-40c7-a2a1-ce29e33ec68e",
        "colab": {
          "base_uri": "https://localhost:8080/",
          "height": 34
        }
      },
      "source": [
        "# Define our X and y variables as below:\n",
        "# x is the independent variable\n",
        "# y is the target variable(price)\n",
        "# \n",
        "X = df2.drop(columns = ['Survived'], axis=1)\n",
        "y = df2['Survived']\n",
        "# \n",
        "# Splitting data into train and test set\n",
        "from sklearn.model_selection import train_test_split\n",
        "X_train, X_test, y_train, y_test = train_test_split(X,y, test_size=0.20, random_state=0)\n",
        "# \n",
        "# Standardising the X_train and the X_test to the same scale\n",
        "from sklearn.preprocessing import StandardScaler\n",
        "sc = StandardScaler()\n",
        "# Training the model\n",
        "# \n",
        "X_train = sc.fit_transform(X_train)\n",
        "X_test = sc.transform(X_test)\n",
        "# \n",
        "# Fitting the model\n",
        "from sklearn.linear_model import LogisticRegression\n",
        "logmodel = LogisticRegression()\n",
        "logmodel.fit(X_train,y_train)\n",
        "# \n",
        "# Making predictions using the model above\n",
        "# \n",
        "preds = logmodel.predict(X_test)\n",
        "# \n",
        "# Getting the accuracy of our model\n",
        "from sklearn.metrics import accuracy_score, r2_score,mean_absolute_error, mean_squared_error\n",
        "import scipy.stats as stats\n",
        "print(\"Logistic Reg. model is\", accuracy_score(y_test,preds))"
      ],
      "execution_count": 0,
      "outputs": [
        {
          "output_type": "stream",
          "text": [
            "Logistic Reg. model is 0.7191011235955056\n"
          ],
          "name": "stdout"
        }
      ]
    },
    {
      "cell_type": "markdown",
      "metadata": {
        "id": "r1PApWuKu8Im",
        "colab_type": "text"
      },
      "source": [
        "> Our baseline model is 72% accurate in making predictions.\n",
        "\n",
        "> With this model, we can have other models to compare with this model to see if other models do better prediction"
      ]
    },
    {
      "cell_type": "markdown",
      "metadata": {
        "id": "BH7VxwCivbai",
        "colab_type": "text"
      },
      "source": [
        "## b)  K-nearest neighbor (kNN) classifier "
      ]
    },
    {
      "cell_type": "markdown",
      "metadata": {
        "id": "aUA4Sy8Rx9ay",
        "colab_type": "text"
      },
      "source": [
        "> KNN algorithms use data and classify new data points based on similarity measures.\n",
        "\n",
        ">> KNN Classifier  works by finding the distances between a query and all the examples in the data, selecting the specified number examples (K) closest to the query, then votes for the most frequent label"
      ]
    },
    {
      "cell_type": "code",
      "metadata": {
        "id": "fxuRvKUrvadp",
        "colab_type": "code",
        "outputId": "07bd0cea-1005-4bd4-d17e-50026e407871",
        "colab": {
          "base_uri": "https://localhost:8080/",
          "height": 69
        }
      },
      "source": [
        "# Splitting the dataset into attributes and labels where X contains the independent features\n",
        "# and y the dependent feature\n",
        "# \n",
        "X = df2.iloc[:, 1:7 ].values\n",
        "y = df2.iloc[:, 0].values\n",
        "# \n",
        "# Splitting data into train and test\n",
        "# The test data gives us a better idea as to how our algorithm performed during the testing phase\n",
        "from sklearn.model_selection import train_test_split\n",
        "X_train, X_test, y_train, y_test = train_test_split(X, y, test_size=0.20)\n",
        "# \n",
        "# Doing Feature Scaling before making any actual predictions so that all of them can be uniformly evaluated.\n",
        "# \n",
        "from sklearn.preprocessing import StandardScaler\n",
        "scaler = StandardScaler()\n",
        "scaler.fit(X_train)\n",
        "\n",
        "X_train = scaler.transform(X_train)\n",
        "X_test = scaler.transform(X_test)\n",
        "# Fitting the data\n",
        "# \n",
        "from sklearn.neighbors import KNeighborsClassifier\n",
        "classifier = KNeighborsClassifier(n_neighbors=5)\n",
        "classifier.fit(X_train, y_train)"
      ],
      "execution_count": 0,
      "outputs": [
        {
          "output_type": "execute_result",
          "data": {
            "text/plain": [
              "KNeighborsClassifier(algorithm='auto', leaf_size=30, metric='minkowski',\n",
              "                     metric_params=None, n_jobs=None, n_neighbors=5, p=2,\n",
              "                     weights='uniform')"
            ]
          },
          "metadata": {
            "tags": []
          },
          "execution_count": 29
        }
      ]
    },
    {
      "cell_type": "code",
      "metadata": {
        "id": "IiKwlgRq5O6J",
        "colab_type": "code",
        "outputId": "15ec82fa-14c4-4964-dadf-6a664aee81c6",
        "colab": {
          "base_uri": "https://localhost:8080/",
          "height": 208
        }
      },
      "source": [
        "# Making predictions \n",
        "# \n",
        "y_pred_Knn = classifier.predict(X_test)\n",
        "# \n",
        "# Evaluating the Algorithm\n",
        "from sklearn.metrics import classification_report, confusion_matrix\n",
        "print(confusion_matrix(y_test, y_pred_Knn))\n",
        "print(classification_report(y_test, y_pred_Knn))"
      ],
      "execution_count": 0,
      "outputs": [
        {
          "output_type": "stream",
          "text": [
            "[[93 15]\n",
            " [23 47]]\n",
            "              precision    recall  f1-score   support\n",
            "\n",
            "           0       0.80      0.86      0.83       108\n",
            "           1       0.76      0.67      0.71        70\n",
            "\n",
            "    accuracy                           0.79       178\n",
            "   macro avg       0.78      0.77      0.77       178\n",
            "weighted avg       0.78      0.79      0.78       178\n",
            "\n"
          ],
          "name": "stdout"
        }
      ]
    },
    {
      "cell_type": "markdown",
      "metadata": {
        "id": "FuFaGVMe7DA8",
        "colab_type": "text"
      },
      "source": [
        "> The confusion matrix indicates that the model is able to make 142 correct predictions and only 36 off predictions which is not badly off\n",
        "\n",
        "> From the analysis above, we also observe that our model accuracy has improved from 72% (Baseline Model) to 79% for the KNN. \n",
        "\n",
        "> This means that KNN is a better classifier compared to Logistic Regression Model"
      ]
    },
    {
      "cell_type": "code",
      "metadata": {
        "id": "eY6BQFqbFo6B",
        "colab_type": "code",
        "outputId": "888c2e06-bee3-47ce-bda4-bf10d3978d03",
        "colab": {
          "base_uri": "https://localhost:8080/",
          "height": 202
        }
      },
      "source": [
        "df2.head()"
      ],
      "execution_count": 0,
      "outputs": [
        {
          "output_type": "execute_result",
          "data": {
            "text/html": [
              "<div>\n",
              "<style scoped>\n",
              "    .dataframe tbody tr th:only-of-type {\n",
              "        vertical-align: middle;\n",
              "    }\n",
              "\n",
              "    .dataframe tbody tr th {\n",
              "        vertical-align: top;\n",
              "    }\n",
              "\n",
              "    .dataframe thead th {\n",
              "        text-align: right;\n",
              "    }\n",
              "</style>\n",
              "<table border=\"1\" class=\"dataframe\">\n",
              "  <thead>\n",
              "    <tr style=\"text-align: right;\">\n",
              "      <th></th>\n",
              "      <th>Survived</th>\n",
              "      <th>Pclass</th>\n",
              "      <th>Sex</th>\n",
              "      <th>Age</th>\n",
              "      <th>SibSp</th>\n",
              "      <th>Parch</th>\n",
              "      <th>Embarked</th>\n",
              "    </tr>\n",
              "  </thead>\n",
              "  <tbody>\n",
              "    <tr>\n",
              "      <th>0</th>\n",
              "      <td>0</td>\n",
              "      <td>3</td>\n",
              "      <td>1</td>\n",
              "      <td>22.0</td>\n",
              "      <td>1</td>\n",
              "      <td>0</td>\n",
              "      <td>0.0</td>\n",
              "    </tr>\n",
              "    <tr>\n",
              "      <th>1</th>\n",
              "      <td>1</td>\n",
              "      <td>1</td>\n",
              "      <td>0</td>\n",
              "      <td>38.0</td>\n",
              "      <td>1</td>\n",
              "      <td>0</td>\n",
              "      <td>1.0</td>\n",
              "    </tr>\n",
              "    <tr>\n",
              "      <th>2</th>\n",
              "      <td>1</td>\n",
              "      <td>3</td>\n",
              "      <td>0</td>\n",
              "      <td>26.0</td>\n",
              "      <td>0</td>\n",
              "      <td>0</td>\n",
              "      <td>0.0</td>\n",
              "    </tr>\n",
              "    <tr>\n",
              "      <th>3</th>\n",
              "      <td>1</td>\n",
              "      <td>1</td>\n",
              "      <td>0</td>\n",
              "      <td>35.0</td>\n",
              "      <td>1</td>\n",
              "      <td>0</td>\n",
              "      <td>0.0</td>\n",
              "    </tr>\n",
              "    <tr>\n",
              "      <th>4</th>\n",
              "      <td>0</td>\n",
              "      <td>3</td>\n",
              "      <td>1</td>\n",
              "      <td>35.0</td>\n",
              "      <td>0</td>\n",
              "      <td>0</td>\n",
              "      <td>0.0</td>\n",
              "    </tr>\n",
              "  </tbody>\n",
              "</table>\n",
              "</div>"
            ],
            "text/plain": [
              "   Survived  Pclass  Sex   Age  SibSp  Parch  Embarked\n",
              "0         0       3    1  22.0      1      0       0.0\n",
              "1         1       1    0  38.0      1      0       1.0\n",
              "2         1       3    0  26.0      0      0       0.0\n",
              "3         1       1    0  35.0      1      0       0.0\n",
              "4         0       3    1  35.0      0      0       0.0"
            ]
          },
          "metadata": {
            "tags": []
          },
          "execution_count": 31
        }
      ]
    },
    {
      "cell_type": "markdown",
      "metadata": {
        "id": "risrMFkVFI4t",
        "colab_type": "text"
      },
      "source": [
        "**Performing LDA to improve the model performance**"
      ]
    },
    {
      "cell_type": "code",
      "metadata": {
        "id": "pkO7JAsbFdvA",
        "colab_type": "code",
        "colab": {}
      },
      "source": [
        "# Defining the independent and dependent variable to be used \n",
        "\n",
        "D = df2.iloc[:, 1:7].values\n",
        "y = df2.iloc[:, 0].values\n",
        "# \n",
        "# Dividing the data to train and test\n",
        "\n",
        "X_train, X_test, y_train, y_test = train_test_split(D, y, test_size=0.2, random_state=0)\n",
        "\n",
        "# Performing feature scaling which is done on the independent variables to normalize the data to a particular range\n",
        "\n",
        "sc = StandardScaler()\n",
        "X_train = sc.fit_transform(X_train)\n",
        "X_test = sc.transform(X_test)"
      ],
      "execution_count": 0,
      "outputs": []
    },
    {
      "cell_type": "code",
      "metadata": {
        "id": "3wix2MNfGHz6",
        "colab_type": "code",
        "colab": {}
      },
      "source": [
        "# Performing Linear Discriminant Analysis(LDA)\n",
        "\n",
        "from sklearn.discriminant_analysis import LinearDiscriminantAnalysis as LDA\n",
        "lda = LDA(n_components=1)\n",
        "X_train = lda.fit_transform(X_train, y_train)\n",
        "X_test = lda.transform(X_test)\n",
        "# \n",
        "# Training and Making Predictions\n",
        "# We will use the random forest classifier to evaluate the performance of a PCA-reduced algorithms as shown below\n",
        "# import the random forest library\n",
        "from sklearn.ensemble import RandomForestClassifier\n",
        "\n",
        "classifier = RandomForestClassifier(max_depth=2, random_state=0)\n",
        "classifier.fit(X_train, y_train)\n",
        "y_pred = classifier.predict(X_test)"
      ],
      "execution_count": 0,
      "outputs": []
    },
    {
      "cell_type": "code",
      "metadata": {
        "id": "zMdAMzhLIsyd",
        "colab_type": "code",
        "outputId": "eb8b7b03-adbd-401f-9ba4-dba2180245ca",
        "colab": {
          "base_uri": "https://localhost:8080/",
          "height": 69
        }
      },
      "source": [
        "# Evaluating the Performance\n",
        "# We evaluate our model by getting  a confusion matrix and finding the accuracy of the prediction.\n",
        "# \n",
        "\n",
        "from sklearn.metrics import confusion_matrix\n",
        "from sklearn.metrics import accuracy_score\n",
        "\n",
        "conf_matrix = confusion_matrix(y_test, y_pred)\n",
        "print(conf_matrix )\n",
        "print('Accuracy' + str(accuracy_score(y_test, y_pred)))"
      ],
      "execution_count": 0,
      "outputs": [
        {
          "output_type": "stream",
          "text": [
            "[[91 14]\n",
            " [35 38]]\n",
            "Accuracy0.7247191011235955\n"
          ],
          "name": "stdout"
        }
      ]
    },
    {
      "cell_type": "markdown",
      "metadata": {
        "id": "0rCvY-WcLkiG",
        "colab_type": "text"
      },
      "source": [
        "> The matrix shows that the model can do 129 correct predictiona and 50 off predictions.\n",
        "\n",
        "> The model accuracy dropped to 72% but can still do well in making predictions"
      ]
    },
    {
      "cell_type": "markdown",
      "metadata": {
        "id": "lQ2G4ZPDVOXE",
        "colab_type": "text"
      },
      "source": [
        "## 8. Challenging the solution"
      ]
    },
    {
      "cell_type": "markdown",
      "metadata": {
        "id": "jWVGKGuiYMWg",
        "colab_type": "text"
      },
      "source": [
        "> The easy solution is nice because it is, well, easy, but you should never allow those results to hold the day. You should always be thinking of ways to challenge the results, especially if those results comport with your prior expectation.\n",
        "\n",
        "\n",
        "\n",
        "\n"
      ]
    },
    {
      "cell_type": "code",
      "metadata": {
        "id": "j3x3SXZ4XT_L",
        "colab_type": "code",
        "colab": {}
      },
      "source": [
        "# Reviewing the Solution \n",
        "#"
      ],
      "execution_count": 0,
      "outputs": []
    },
    {
      "cell_type": "markdown",
      "metadata": {
        "id": "xrmHVMVsVS--",
        "colab_type": "text"
      },
      "source": [
        "## 9. Follow up questions"
      ]
    },
    {
      "cell_type": "markdown",
      "metadata": {
        "id": "pth2qSWhuBIy",
        "colab_type": "text"
      },
      "source": [
        "> At this point, we can refine our question or collect new data, all in an iterative process to get at the truth.\n",
        "\n"
      ]
    },
    {
      "cell_type": "markdown",
      "metadata": {
        "id": "HPQviDmNtta8",
        "colab_type": "text"
      },
      "source": [
        "### a). Did we have the right data?"
      ]
    },
    {
      "cell_type": "markdown",
      "metadata": {
        "id": "mWPaxwl3MigN",
        "colab_type": "text"
      },
      "source": [
        "> Yes. The data provided was good enough to build a model and answer different questions in place"
      ]
    },
    {
      "cell_type": "markdown",
      "metadata": {
        "id": "qjFHK1CKty7o",
        "colab_type": "text"
      },
      "source": [
        "### b). Do we need other data to answer our question?"
      ]
    },
    {
      "cell_type": "markdown",
      "metadata": {
        "id": "RhaDo_cFMv3j",
        "colab_type": "text"
      },
      "source": [
        "> More data could be made available if the case where more study needs to be done concerning same tragedy."
      ]
    },
    {
      "cell_type": "markdown",
      "metadata": {
        "id": "HSsicSdvt4Zs",
        "colab_type": "text"
      },
      "source": [
        "### c). Did we have the right question?"
      ]
    },
    {
      "cell_type": "markdown",
      "metadata": {
        "id": "k6Hno-jrM6hd",
        "colab_type": "text"
      },
      "source": [
        "> The question was clear and understandable hence making analysis easy"
      ]
    }
  ]
}